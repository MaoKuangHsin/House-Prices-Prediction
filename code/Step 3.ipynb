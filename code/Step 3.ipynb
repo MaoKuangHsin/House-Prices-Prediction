{
 "cells": [
  {
   "cell_type": "markdown",
   "id": "aeeca832",
   "metadata": {},
   "source": [
    "## Categorical & Advanced Feature Engineering\n",
    "### 1. Load and Merge Data\n",
    "- Combine cleaned training data with numerical features\n",
    "\n"
   ]
  },
  {
   "cell_type": "code",
   "execution_count": 1,
   "id": "e9d351d9",
   "metadata": {},
   "outputs": [],
   "source": [
    "import pandas as pd\n",
    "import numpy as np\n",
    "\n",
    "# Load raw training data and numerical features \n",
    "train_raw = pd.read_csv(\"train_data.csv\")  \n",
    "train_num = pd.read_csv(\"engineered_numerical_train.csv\") \n",
    "\n",
    "# Select categorical columns to be engineered\n",
    "categorical_cols = ['street', 'city', 'statezip', 'country']\n",
    "categorical_data = train_raw[categorical_cols]\n",
    "\n",
    "# Combine numerical and categorical features into 1 DataFrame\n",
    "combined_data = pd.concat([train_num, categorical_data], axis=1)\n",
    "\n",
    "\n"
   ]
  },
  {
   "cell_type": "markdown",
   "id": "1bb6e95b",
   "metadata": {},
   "source": [
    "### 2. Encoding Categorical Variables\n",
    "- Convert categorical data into numeric features"
   ]
  },
  {
   "cell_type": "code",
   "execution_count": 2,
   "id": "a0d022a8",
   "metadata": {},
   "outputs": [],
   "source": [
    "# Drop categorical columns that are either uninformative or too unique\n",
    "combined_data = combined_data.drop(columns=['street', 'country'])\n",
    "\n",
    "# Target encoding, calculate average price for each city and statezip\n",
    "city_mean = train_raw.groupby('city')['price'].mean()\n",
    "statezip_mean = train_raw.groupby('statezip')['price'].mean()\n",
    "\n",
    "# Map the average prices to each row\n",
    "combined_data['city_encoded'] = train_raw['city'].map(city_mean)\n",
    "combined_data['statezip_encoded'] = train_raw['statezip'].map(statezip_mean)\n",
    "\n",
    "# Save the result\n",
    "combined_data.to_csv(\"engineered_categorical_train.csv\", index=False)\n",
    "\n",
    "\n"
   ]
  },
  {
   "cell_type": "markdown",
   "id": "7f2fa3b7",
   "metadata": {},
   "source": [
    "### 3. Apply Same Encoding to Test Set\n",
    "- Prevent data leakage"
   ]
  },
  {
   "cell_type": "code",
   "execution_count": 3,
   "id": "94221acc",
   "metadata": {},
   "outputs": [],
   "source": [
    "# Load raw test data\n",
    "test_raw = pd.read_csv(\"test_data.csv\")\n",
    "\n",
    "# Drop uninformative columns\n",
    "test_cleaned = test_raw.drop(columns=[\"street\", \"country\"])\n",
    "\n",
    "# Apply the same mappings to avoid data leakage\n",
    "test_raw['city_encoded'] = test_raw['city'].map(city_mean)\n",
    "test_raw['statezip_encoded'] = test_raw['statezip'].map(statezip_mean)\n",
    "\n",
    "# Apply target encoding (map training means to test cities)\n",
    "# Fill missing values for unseen categories with training global mean\n",
    "global_mean = train_raw[\"price\"].mean()\n",
    "test_cleaned[\"city_encoded\"] = test_raw[\"city\"].map(city_mean).fillna(global_mean)\n",
    "test_cleaned[\"statezip_encoded\"] = test_raw[\"statezip\"].map(statezip_mean).fillna(global_mean)\n",
    "\n",
    "# Drop raw categorical columns\n",
    "test_encoded = test_cleaned.drop(columns=[\"city\", \"statezip\"])\n",
    "\n",
    "# Save to file\n",
    "test_encoded.to_csv(\"engineered_categorical_test.csv\", index=False)\n"
   ]
  },
  {
   "cell_type": "markdown",
   "id": "bcbd3404",
   "metadata": {},
   "source": [
    "### 4. Create KNN-Based Feature\n",
    "- Add an advanced feature: average price of 5 most similar homes\n",
    "- In the training set, we used `n_neighbors=6` and manually excluded the first neighbor (which is the sample itself) when calculating `knn_avg_price_5`. This is necessary because each training point is always its own closest neighbor."
   ]
  },
  {
   "cell_type": "code",
   "execution_count": 4,
   "id": "19643f29",
   "metadata": {},
   "outputs": [],
   "source": [
    "# Create `knn_avg_price_5` for training set\n",
    "# Load files again\n",
    "train_num = pd.read_csv(\"engineered_numerical_train.csv\")\n",
    "categorical_features = pd.read_csv(\"engineered_categorical_train.csv\")\n",
    "\n",
    "# Drop unnecessary columns\n",
    "train_num = train_num.drop(columns=['Unnamed: 0'], errors='ignore')\n",
    "\n",
    "# Reconstruct price column from raw data\n",
    "price = train_raw['price'].reset_index(drop=True)\n",
    "\n",
    "# Merge all components into one training set\n",
    "train_combined = pd.concat([\n",
    "    train_num.reset_index(drop=True),\n",
    "    categorical_features[['city_encoded', 'statezip_encoded']].reset_index(drop=True),\n",
    "    price\n",
    "], axis=1)\n",
    "\n",
    "# Select features for KNN similarity\n",
    "knn_features = [\n",
    "    'house_age',\n",
    "    'sqft_living_per_floor',\n",
    "    'sqft_living_lot_ratio',\n",
    "    'total_rooms_approx',\n",
    "    'log_sqft_living',\n",
    "    'bed_bath_interaction'\n",
    "]\n",
    "\n",
    "# Drop rows with missing values\n",
    "train_knn = train_combined.dropna(subset=knn_features + ['price']).reset_index(drop=True)\n",
    "\n",
    "# Build NearestNeighbors model to find 5 closest houses\n",
    "from sklearn.neighbors import NearestNeighbors\n",
    "knn_model = NearestNeighbors(n_neighbors=6, metric='euclidean')  # 6 includes self\n",
    "knn_model.fit(train_knn[knn_features])\n",
    "\n",
    "# Find nearest neighbors\n",
    "distances, indices = knn_model.kneighbors(train_knn[knn_features])\n",
    "\n",
    "# Compute average price of the 5 nearest neighbors (excluding self)\n",
    "neighbor_prices = []\n",
    "for idx_list in indices:\n",
    "    neighbor_idx = idx_list[1:]  # Exclude the first (self)\n",
    "    avg_price = train_knn.loc[neighbor_idx, 'price'].mean()\n",
    "    neighbor_prices.append(avg_price)\n",
    "\n",
    "# Add as a new feature\n",
    "train_knn['knn_avg_price_5'] = neighbor_prices\n",
    "\n",
    "# Save the final version with the KNN feature\n",
    "train_knn.to_csv(\"engineered_categorical_train_knn.csv\", index=False)\n"
   ]
  },
  {
   "cell_type": "markdown",
   "id": "16a461c0",
   "metadata": {},
   "source": [
    "However, when predicting KNN-based features for the test set, we query neighbors from the training data — and the test instance does not exist in the training set. Therefore, it cannot be its own neighbor.\\\n",
    "As such, we set `n_neighbors=5` directly when constructing `knn_avg_price_5` for the test set, and we do not need to drop the first neighbor.\\\n",
    "This distinction ensures that the KNN feature reflects the local price environment of truly external neighboring homes — which is exactly how the model would behave in deployment."
   ]
  },
  {
   "cell_type": "code",
   "execution_count": 5,
   "id": "a6da9907",
   "metadata": {},
   "outputs": [],
   "source": [
    "# Load test data (same feature sources as train)\n",
    "test_num = pd.read_csv(\"engineered_numerical_test.csv\")\n",
    "test_cat = pd.read_csv(\"engineered_categorical_test.csv\")\n",
    "\n",
    "# Drop unnecessary columns\n",
    "test_num = test_num.drop(columns=['Unnamed: 0'], errors='ignore')\n",
    "\n",
    "# Combine features and keep row_index for alignment\n",
    "test_combined = pd.concat([\n",
    "    test_num.reset_index(drop=True),\n",
    "    test_cat[['city_encoded', 'statezip_encoded']].reset_index(drop=True)\n",
    "], axis=1)\n",
    "\n",
    "# Reload training KNN data that already contains price\n",
    "train_knn = pd.read_csv(\"engineered_categorical_train_knn.csv\")\n",
    "\n",
    "# Align columns with training set (same as knn_features in training set)\n",
    "knn_features = [\n",
    "    'house_age',\n",
    "    'sqft_living_per_floor',\n",
    "    'sqft_living_lot_ratio',\n",
    "    'total_rooms_approx',\n",
    "    'log_sqft_living',\n",
    "    'bed_bath_interaction'\n",
    "]\n",
    "\n",
    "# Drop rows from test if any KNN feature is NaN (temporary)\n",
    "X_test_valid = test_combined.dropna(subset=knn_features).copy()\n",
    "\n",
    "# Fit KNN model on training set\n",
    "knn_model = NearestNeighbors(n_neighbors=5, metric='euclidean')\n",
    "knn_model.fit(train_knn[knn_features])\n",
    "\n",
    "# Find neighbors and calculate average price\n",
    "distances, indices = knn_model.kneighbors(X_test_valid[knn_features])\n",
    "knn_avg_prices = [train_knn.loc[idx, 'price'].mean() for idx in indices]\n",
    "\n",
    "# Assign KNN feature\n",
    "X_test_valid['knn_avg_price_5'] = knn_avg_prices\n",
    "\n",
    "# Save the final version with the KNN feature\n",
    "X_test_valid.to_csv(\"engineered_categorical_test_knn.csv\", index=False)\n"
   ]
  }
 ],
 "metadata": {
  "kernelspec": {
   "display_name": "base",
   "language": "python",
   "name": "python3"
  },
  "language_info": {
   "codemirror_mode": {
    "name": "ipython",
    "version": 3
   },
   "file_extension": ".py",
   "mimetype": "text/x-python",
   "name": "python",
   "nbconvert_exporter": "python",
   "pygments_lexer": "ipython3",
   "version": "3.12.2"
  }
 },
 "nbformat": 4,
 "nbformat_minor": 5
}
